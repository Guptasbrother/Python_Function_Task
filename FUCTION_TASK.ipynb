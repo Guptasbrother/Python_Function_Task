{
 "cells": [
  {
   "cell_type": "markdown",
   "metadata": {},
   "source": [
    "## FUNCTION TASK\n",
    "\n",
    "*create a fuction with 3 parameters\n",
    "\n",
    "*p1 = number, p2 = number, p3 = operation\n",
    "\n",
    "*print operation and addition of p1 and p2 in same print function"
   ]
  },
  {
   "cell_type": "markdown",
   "metadata": {},
   "source": []
  },
  {
   "cell_type": "markdown",
   "metadata": {},
   "source": [
    "### (A) ARTHMETICAL OPRATION FUNCTION"
   ]
  },
  {
   "cell_type": "markdown",
   "metadata": {},
   "source": [
    "#### (1) function of addition of two number"
   ]
  },
  {
   "cell_type": "code",
   "execution_count": 5,
   "metadata": {},
   "outputs": [
    {
     "name": "stdout",
     "output_type": "stream",
     "text": [
      "addition of two value val1 and val2 = 40 + 20 = 60 \n"
     ]
    }
   ],
   "source": [
    "def add_value (val1,val2,add):\n",
    "    result = val1 + val2\n",
    "    print ('{} of two value val1 and val2 = {} + {} = {} '.format(add,val1,val2,result))\n",
    "\n",
    "\n",
    "add_value (40,20,'addition')"
   ]
  },
  {
   "cell_type": "markdown",
   "metadata": {},
   "source": [
    "#### (2) function of substaction of two number"
   ]
  },
  {
   "cell_type": "code",
   "execution_count": 11,
   "metadata": {},
   "outputs": [
    {
     "name": "stdout",
     "output_type": "stream",
     "text": [
      "substaction of two value val1 and val2 = 40 - 20 = 20 \n"
     ]
    }
   ],
   "source": [
    "def add_value (val1,val2,add):\n",
    "    result = val1 - val2\n",
    "    print ('{} of two value val1 and val2 = {} - {} = {} '.format(add,val1,val2,result))\n",
    "\n",
    "\n",
    "add_value (40,20,'substaction')"
   ]
  },
  {
   "cell_type": "markdown",
   "metadata": {},
   "source": [
    "#### (3) function of division of two number"
   ]
  },
  {
   "cell_type": "code",
   "execution_count": 10,
   "metadata": {},
   "outputs": [
    {
     "name": "stdout",
     "output_type": "stream",
     "text": [
      "division of two value val1 and val2 = 40 / 20 = 2.0 \n"
     ]
    }
   ],
   "source": [
    "def add_value (val1,val2,add):\n",
    "    result = val1 / val2\n",
    "    print ('{} of two value val1 and val2 = {} / {} = {} '.format(add,val1,val2,result))\n",
    "\n",
    "\n",
    "add_value (40,20,'division')"
   ]
  },
  {
   "cell_type": "markdown",
   "metadata": {},
   "source": [
    "#### (4) function of multiplication of two number"
   ]
  },
  {
   "cell_type": "code",
   "execution_count": 9,
   "metadata": {},
   "outputs": [
    {
     "name": "stdout",
     "output_type": "stream",
     "text": [
      "multiplication of two value val1 and val2 = 40 * 20 = 800 \n"
     ]
    }
   ],
   "source": [
    "def add_value (val1,val2,add):\n",
    "    result = val1 * val2\n",
    "    print ('{} of two value val1 and val2 = {} * {} = {} '.format(add,val1,val2,result))\n",
    "\n",
    "\n",
    "add_value (40,20,'multiplication')"
   ]
  },
  {
   "cell_type": "code",
   "execution_count": null,
   "metadata": {},
   "outputs": [],
   "source": []
  },
  {
   "cell_type": "markdown",
   "metadata": {},
   "source": [
    "### (B) COMPARISION OPRATION FUNCTION"
   ]
  },
  {
   "cell_type": "markdown",
   "metadata": {},
   "source": [
    "#### Greater and smaller campare"
   ]
  },
  {
   "cell_type": "code",
   "execution_count": 1,
   "metadata": {},
   "outputs": [
    {
     "name": "stdout",
     "output_type": "stream",
     "text": [
      "val1 > val2 = 100 > 150 = False\n"
     ]
    }
   ],
   "source": [
    "def compare_value (val1 , val2):\n",
    "    result = val1 > val2\n",
    "    print(f'val1 > val2 = {val1} > {val2} = {result}')\n",
    "compare_value (100,150)"
   ]
  },
  {
   "cell_type": "code",
   "execution_count": 3,
   "metadata": {},
   "outputs": [
    {
     "name": "stdout",
     "output_type": "stream",
     "text": [
      "val1 < val2 = 100 < 150 = True\n"
     ]
    }
   ],
   "source": [
    "def compare_value (val1 , val2):\n",
    "    result = val1 < val2\n",
    "    print(f'val1 < val2 = {val1} < {val2} = {result}')\n",
    "compare_value (100,150)"
   ]
  },
  {
   "cell_type": "code",
   "execution_count": null,
   "metadata": {},
   "outputs": [],
   "source": []
  }
 ],
 "metadata": {
  "kernelspec": {
   "display_name": "Python 3",
   "language": "python",
   "name": "python3"
  },
  "language_info": {
   "codemirror_mode": {
    "name": "ipython",
    "version": 3
   },
   "file_extension": ".py",
   "mimetype": "text/x-python",
   "name": "python",
   "nbconvert_exporter": "python",
   "pygments_lexer": "ipython3",
   "version": "3.12.4"
  }
 },
 "nbformat": 4,
 "nbformat_minor": 2
}
